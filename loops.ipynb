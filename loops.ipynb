{
 "cells": [
  {
   "cell_type": "markdown",
   "id": "ad43c26b",
   "metadata": {},
   "source": [
    "##### For loops for intaracting with data structures\n",
    "> Arrays, lists, dictionaries, sets and tuples  "
   ]
  },
  {
   "cell_type": "code",
   "execution_count": 6,
   "id": "ab6d4f71",
   "metadata": {},
   "outputs": [],
   "source": [
    "_array = [\n",
    "    [1, 2, 3, 4, 5, 6, 7],\n",
    "    [8, 9, 10, 11, 12, 13, 14],\n",
    "    [15, 16, 17, 18, 19, 20, 21],\n",
    "    [22, 23, 24, 25, 26, 27, 28],\n",
    "    [29, 30, 31, 1, 2, 3, 4]\n",
    "]"
   ]
  },
  {
   "cell_type": "code",
   "execution_count": 7,
   "id": "7f9c0b0f",
   "metadata": {},
   "outputs": [],
   "source": [
    "_hmap = {\n",
    "    \"name\" : \"John Doe\",\n",
    "    \"age\" : 25,\n",
    "    \"location\" : \"Kinoo 87, Gachagi road\",\n",
    "    \"Employed\" : True,\n",
    "    \"pay\" : 250000.65,\n",
    "    \"married\" : False\n",
    "}"
   ]
  },
  {
   "cell_type": "code",
   "execution_count": 8,
   "id": "1a9e463c",
   "metadata": {},
   "outputs": [
    {
     "data": {
      "text/plain": [
       "'Saturday'"
      ]
     },
     "execution_count": 8,
     "metadata": {},
     "output_type": "execute_result"
    }
   ],
   "source": [
    "week_days = (\n",
    "    \"Monday\",\n",
    "    \"Tuesday\",\n",
    "    \"Wednesday\",\n",
    "    \"Thursday\",\n",
    "    \"Friday\",\n",
    "    \"Saturday\",\n",
    "    \"Sunday\"\n",
    ")\n",
    "\n",
    "week_days[-2]"
   ]
  },
  {
   "cell_type": "markdown",
   "id": "b85cbdfb",
   "metadata": {},
   "source": [
    "#### Getting all weekends 1 being a monday"
   ]
  },
  {
   "cell_type": "code",
   "execution_count": 9,
   "id": "0be4656c",
   "metadata": {},
   "outputs": [],
   "source": [
    "weekends = []\n",
    "step = 0\n",
    "for val in _array:\n",
    "    weekends.append(val[-2:])\n",
    "    "
   ]
  },
  {
   "cell_type": "code",
   "execution_count": 10,
   "id": "1e707a2c",
   "metadata": {},
   "outputs": [
    {
     "data": {
      "text/plain": [
       "[[6, 7], [13, 14], [20, 21], [27, 28], [3, 4]]"
      ]
     },
     "execution_count": 10,
     "metadata": {},
     "output_type": "execute_result"
    }
   ],
   "source": [
    "weekends"
   ]
  },
  {
   "cell_type": "code",
   "execution_count": 11,
   "id": "8c610372",
   "metadata": {},
   "outputs": [],
   "source": [
    "weekend_map = {\n",
    "    week_days[-2] : [],\n",
    "    week_days[-1] : []\n",
    "}"
   ]
  },
  {
   "cell_type": "code",
   "execution_count": 12,
   "id": "63407344",
   "metadata": {},
   "outputs": [],
   "source": [
    "for weekend in weekends:\n",
    "    weekend_map[\"Saturday\"].append(weekends[weekends.index(weekend)][0])\n",
    "    weekend_map[\"Sunday\"].append(weekends[weekends.index(weekend)][-1])"
   ]
  },
  {
   "cell_type": "code",
   "execution_count": 13,
   "id": "4727e290",
   "metadata": {},
   "outputs": [
    {
     "data": {
      "text/plain": [
       "{'Saturday': [6, 13, 20, 27, 3], 'Sunday': [7, 14, 21, 28, 4]}"
      ]
     },
     "execution_count": 13,
     "metadata": {},
     "output_type": "execute_result"
    }
   ],
   "source": [
    "weekend_map"
   ]
  },
  {
   "cell_type": "code",
   "execution_count": 14,
   "id": "1d3c99e5",
   "metadata": {},
   "outputs": [],
   "source": [
    "import pandas as pd\n",
    "import numpy as np"
   ]
  },
  {
   "cell_type": "code",
   "execution_count": 17,
   "id": "9596fa62",
   "metadata": {},
   "outputs": [],
   "source": [
    "df = pd.DataFrame(weekend_map)"
   ]
  },
  {
   "cell_type": "code",
   "execution_count": 26,
   "id": "2828a383",
   "metadata": {},
   "outputs": [],
   "source": [
    "df.index = [1, 2, 3, 4, 5]"
   ]
  },
  {
   "cell_type": "code",
   "execution_count": 33,
   "id": "0a471ff3",
   "metadata": {},
   "outputs": [],
   "source": [
    "df.index.name = \"No_of_weekends\""
   ]
  },
  {
   "cell_type": "code",
   "execution_count": 35,
   "id": "440a02b4",
   "metadata": {},
   "outputs": [
    {
     "data": {
      "text/html": [
       "<div>\n",
       "<style scoped>\n",
       "    .dataframe tbody tr th:only-of-type {\n",
       "        vertical-align: middle;\n",
       "    }\n",
       "\n",
       "    .dataframe tbody tr th {\n",
       "        vertical-align: top;\n",
       "    }\n",
       "\n",
       "    .dataframe thead th {\n",
       "        text-align: right;\n",
       "    }\n",
       "</style>\n",
       "<table border=\"1\" class=\"dataframe\">\n",
       "  <thead>\n",
       "    <tr style=\"text-align: right;\">\n",
       "      <th></th>\n",
       "      <th>Saturday</th>\n",
       "      <th>Sunday</th>\n",
       "    </tr>\n",
       "    <tr>\n",
       "      <th>No_of_weekends</th>\n",
       "      <th></th>\n",
       "      <th></th>\n",
       "    </tr>\n",
       "  </thead>\n",
       "  <tbody>\n",
       "    <tr>\n",
       "      <th>1</th>\n",
       "      <td>6</td>\n",
       "      <td>7</td>\n",
       "    </tr>\n",
       "    <tr>\n",
       "      <th>2</th>\n",
       "      <td>13</td>\n",
       "      <td>14</td>\n",
       "    </tr>\n",
       "    <tr>\n",
       "      <th>3</th>\n",
       "      <td>20</td>\n",
       "      <td>21</td>\n",
       "    </tr>\n",
       "    <tr>\n",
       "      <th>4</th>\n",
       "      <td>27</td>\n",
       "      <td>28</td>\n",
       "    </tr>\n",
       "    <tr>\n",
       "      <th>5</th>\n",
       "      <td>3</td>\n",
       "      <td>4</td>\n",
       "    </tr>\n",
       "  </tbody>\n",
       "</table>\n",
       "</div>"
      ],
      "text/plain": [
       "                Saturday  Sunday\n",
       "No_of_weekends                  \n",
       "1                      6       7\n",
       "2                     13      14\n",
       "3                     20      21\n",
       "4                     27      28\n",
       "5                      3       4"
      ]
     },
     "execution_count": 35,
     "metadata": {},
     "output_type": "execute_result"
    }
   ],
   "source": [
    "df"
   ]
  },
  {
   "cell_type": "code",
   "execution_count": null,
   "id": "88344a7b",
   "metadata": {},
   "outputs": [],
   "source": []
  }
 ],
 "metadata": {
  "kernelspec": {
   "display_name": "Python 3 (ipykernel)",
   "language": "python",
   "name": "python3"
  },
  "language_info": {
   "codemirror_mode": {
    "name": "ipython",
    "version": 3
   },
   "file_extension": ".py",
   "mimetype": "text/x-python",
   "name": "python",
   "nbconvert_exporter": "python",
   "pygments_lexer": "ipython3",
   "version": "3.9.13"
  }
 },
 "nbformat": 4,
 "nbformat_minor": 5
}
