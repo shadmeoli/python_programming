{
 "cells": [
  {
   "cell_type": "markdown",
   "id": "c82421e6",
   "metadata": {},
   "source": [
    "##### For loops for intaracting with data structures\n",
    "> Arrays, lists, dictionaries, sets and tuples  "
   ]
  },
  {
   "cell_type": "code",
   "execution_count": 69,
   "id": "e3ddfdd9",
   "metadata": {},
   "outputs": [],
   "source": [
    "_array = [\n",
    "    [1, 2, 3, 4, 5, 6, 7],\n",
    "    [8, 9, 10, 11, 12, 13, 14],\n",
    "    [15, 16, 17, 18, 19, 20, 21],\n",
    "    [22, 23, 24, 25, 26, 27, 28],\n",
    "    [29, 30, 31, 1, 2, 3, 4]\n",
    "]"
   ]
  },
  {
   "cell_type": "code",
   "execution_count": 70,
   "id": "365fc20e",
   "metadata": {},
   "outputs": [],
   "source": [
    "_hmap = {\n",
    "    \"name\" : \"John Doe\",\n",
    "    \"age\" : 25,\n",
    "    \"location\" : \"Kinoo 87, Gachagi road\",\n",
    "    \"Employed\" : True,\n",
    "    \"pay\" : 250000.65,\n",
    "    \"married\" : False\n",
    "}"
   ]
  },
  {
   "cell_type": "code",
   "execution_count": 88,
   "id": "96ca4017",
   "metadata": {},
   "outputs": [
    {
     "data": {
      "text/plain": [
       "'Saturday'"
      ]
     },
     "execution_count": 88,
     "metadata": {},
     "output_type": "execute_result"
    }
   ],
   "source": [
    "week_days = (\n",
    "    \"Monday\",\n",
    "    \"Tuesday\",\n",
    "    \"Wednesday\",\n",
    "    \"Thursday\",\n",
    "    \"Friday\",\n",
    "    \"Saturday\",\n",
    "    \"Sunday\"\n",
    ")\n",
    "\n",
    "week_days[-2]"
   ]
  },
  {
   "cell_type": "markdown",
   "id": "8451665d",
   "metadata": {},
   "source": [
    "#### Getting all weekends 1 being a monday"
   ]
  },
  {
   "cell_type": "code",
   "execution_count": 89,
   "id": "b0f5d5f7",
   "metadata": {},
   "outputs": [],
   "source": [
    "weekends = []\n",
    "step = 0\n",
    "for val in _array:\n",
    "    weekends.append(val[-2:])\n",
    "    "
   ]
  },
  {
   "cell_type": "code",
   "execution_count": 90,
   "id": "4a5909b5",
   "metadata": {},
   "outputs": [
    {
     "data": {
      "text/plain": [
       "[[6, 7], [13, 14], [20, 21], [27, 28], [3, 4]]"
      ]
     },
     "execution_count": 90,
     "metadata": {},
     "output_type": "execute_result"
    }
   ],
   "source": [
    "weekends"
   ]
  },
  {
   "cell_type": "code",
   "execution_count": 91,
   "id": "b098fbdd",
   "metadata": {},
   "outputs": [],
   "source": [
    "weekend_map = {\n",
    "    week_days[-2] : [],\n",
    "    week_days[-1] : []\n",
    "}"
   ]
  },
  {
   "cell_type": "code",
   "execution_count": 94,
   "id": "0c224338",
   "metadata": {},
   "outputs": [],
   "source": [
    "for weekend in weekends:\n",
    "    weekend_map[\"Saturday\"].append(weekends[weekends.index(weekend)][0])\n",
    "    weekend_map[\"Sunday\"].append(weekends[weekends.index(weekend)][-1])"
   ]
  },
  {
   "cell_type": "code",
   "execution_count": 96,
   "id": "c23f2422",
   "metadata": {},
   "outputs": [
    {
     "data": {
      "text/plain": [
       "{'Saturday': [6, 13, 20, 27, 3, 6, 13, 20, 27, 3],\n",
       " 'Sunday': [7, 14, 21, 28, 4, 7, 14, 21, 28, 4]}"
      ]
     },
     "execution_count": 96,
     "metadata": {},
     "output_type": "execute_result"
    }
   ],
   "source": [
    "weekend_map"
   ]
  },
  {
   "cell_type": "code",
   "execution_count": null,
   "id": "a2c4ae10",
   "metadata": {},
   "outputs": [],
   "source": []
  }
 ],
 "metadata": {
  "kernelspec": {
   "display_name": "Python 3 (ipykernel)",
   "language": "python",
   "name": "python3"
  },
  "language_info": {
   "codemirror_mode": {
    "name": "ipython",
    "version": 3
   },
   "file_extension": ".py",
   "mimetype": "text/x-python",
   "name": "python",
   "nbconvert_exporter": "python",
   "pygments_lexer": "ipython3",
   "version": "3.10.6"
  }
 },
 "nbformat": 4,
 "nbformat_minor": 5
}
